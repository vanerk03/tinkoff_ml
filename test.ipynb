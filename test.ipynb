{
 "cells": [
  {
   "cell_type": "code",
   "execution_count": 9,
   "metadata": {},
   "outputs": [],
   "source": [
    "import nltk\n",
    "from gensim.models import Word2Vec, KeyedVectors\n",
    "from gensim.test.utils import common_texts\n",
    "from sklearn import linear_model\n",
    "from train import tokenize_sents, tokenize_text\n",
    "\n",
    "import numpy as np\n",
    "\n",
    "# reg = linear_model.LogisticRegression()\n",
    "\n",
    "\n",
    "# target => array?\n",
    "# model takes n vectors of the previous words in a sentence and gives the probability for each combination \n",
    "\n"
   ]
  },
  {
   "cell_type": "code",
   "execution_count": 10,
   "metadata": {},
   "outputs": [
    {
     "data": {
      "text/plain": [
       "58494"
      ]
     },
     "execution_count": 10,
     "metadata": {},
     "output_type": "execute_result"
    }
   ],
   "source": [
    "from collections import defaultdict\n",
    "import pandas as pd\n",
    "from sklearn import linear_model, ensemble\n",
    "from train import Ngramm\n",
    "from train import tokenize_sents, tokenize_text\n",
    "import pickle\n",
    "\n",
    "# reg.predict([[context, word_POS, ]])\n",
    "\n",
    "ngramm_count = defaultdict(lambda: 0)\n",
    "ngramm_words = defaultdict(lambda: defaultdict(lambda: 0))\n",
    "\n",
    "words = set()\n",
    "\n",
    "with open(\"data\\\\catcher_in_the_rye.txt\", \"r\", encoding=\"UTF-8\") as fl:\n",
    "# with open(\"data\\\\harry_potter.txt\", \"r\", encoding=\"UTF-8\") as fl:\n",
    "    text = fl.read()\n",
    "\n",
    "sents = [tokenize_sents(x) for x in tokenize_text(text)]\n",
    "len(sents)\n"
   ]
  },
  {
   "cell_type": "code",
   "execution_count": 11,
   "metadata": {},
   "outputs": [],
   "source": [
    "n = 2\n",
    "\n",
    "for sentence in sents:\n",
    "    for context, word in Ngramm.ngramms(sentence, n):\n",
    "        ngramm_words[context][word] += 1\n",
    "        ngramm_count[context] += 1\n",
    "        words.add(word)\n",
    "        \n",
    "\n",
    "model = Word2Vec(sents, min_count=1)\n",
    "\n",
    "pos_lst = nltk.pos_tag_sents(sents)\n",
    "        \n",
    "X = []\n",
    "y = []\n",
    "\n",
    "for i, sentence in enumerate(sents):\n",
    "    for j, (context, word) in enumerate(Ngramm.ngramms(sentence, n)):\n",
    "        prob = ngramm_words[context][word] / ngramm_count[context]\n",
    "        vec = model.wv[word]\n",
    "        vec1 = model.wv[context[0]]\n",
    "        vec2 = model.wv[context[1]]\n",
    "        pos = pos_lst[i][j + n][1]\n",
    "        X.append([*vec1, *vec2, *vec])\n",
    "        y.append(prob)\n",
    "        # print(prob)\n",
    "\n",
    "reg = ensemble.BaggingRegressor()\n",
    "reg.fit(X, y)\n",
    "\n",
    "with open(\"reg.pkl\", \"wb\") as fl:\n",
    "    pickle.dump(reg, fl)\n",
    "    \n",
    "\n"
   ]
  },
  {
   "cell_type": "code",
   "execution_count": 12,
   "metadata": {},
   "outputs": [],
   "source": [
    "with open(\"reg.pkl\", \"rb\") as fl:\n",
    "    reg = pickle.load(fl)\n",
    "\n",
    "with open(\"D:\\\\practice\\\\tinkoff_ml\\\\data\\\\harry_potter.txt\", \"r\", encoding=\"UTF-8\") as fl:\n",
    "    text = fl.read()\n",
    "\n",
    "sents = [tokenize_sents(x) for x in tokenize_text(text)]\n",
    "\n",
    "model = Word2Vec(sents, min_count=1)"
   ]
  },
  {
   "cell_type": "code",
   "execution_count": 26,
   "metadata": {},
   "outputs": [
    {
     "data": {
      "text/plain": [
       "array([0.61916667])"
      ]
     },
     "execution_count": 26,
     "metadata": {},
     "output_type": "execute_result"
    }
   ],
   "source": [
    "reg.predict([[*model.wv[\"i\"], *model.wv[\"will\"], *model.wv[\"check\"]]])"
   ]
  }
 ],
 "metadata": {
  "kernelspec": {
   "display_name": "Python 3.10.1 64-bit",
   "language": "python",
   "name": "python3"
  },
  "language_info": {
   "codemirror_mode": {
    "name": "ipython",
    "version": 3
   },
   "file_extension": ".py",
   "mimetype": "text/x-python",
   "name": "python",
   "nbconvert_exporter": "python",
   "pygments_lexer": "ipython3",
   "version": "3.10.1"
  },
  "orig_nbformat": 4,
  "vscode": {
   "interpreter": {
    "hash": "7359e98046c339547fc1a02044a6e86ac4e2f7e514d40237ed6e09b2820e05a1"
   }
  }
 },
 "nbformat": 4,
 "nbformat_minor": 2
}
